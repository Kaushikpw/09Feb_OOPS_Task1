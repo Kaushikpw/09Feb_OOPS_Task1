{
 "cells": [
  {
   "cell_type": "code",
   "execution_count": 22,
   "id": "e330dea0-2e28-4591-bf4d-44d4eed49942",
   "metadata": {},
   "outputs": [],
   "source": [
    "#Q1, Create a vehicle class with an init method having instance variables as name_of_vehicle, max_speed\n",
    "#and average_of_vehicle.\n",
    "\n",
    "#Ans.:\n",
    "class Vehicle:\n",
    "    \n",
    "    def __init__(self, name_of_vehicle, max_speed, average_of_vehicle):\n",
    "        self.name_of_vehicle = name_of_vehicle\n",
    "        self.max_speed = max_speed\n",
    "        self.average_of_vehicle = average_of_vehicle\n",
    "        \n",
    "    "
   ]
  },
  {
   "cell_type": "code",
   "execution_count": 23,
   "id": "44d6663f-3b19-4a48-8583-8b8fb7c03b03",
   "metadata": {},
   "outputs": [],
   "source": [
    "#Q2. Create a child class car from the vehicle class created in Que 1, which will inherit the vehicle class.\n",
    "#Create a method named seating_capacity which takes capacity as an argument and returns the name of\n",
    "#the vehicle and its seating capacity.\n",
    "\n",
    "#Ans.:\n",
    "class car(Vehicle):\n",
    "    def __init__(self, name_of_vehicle, max_speed, average_of_vehicle):\n",
    "        super().__init__(name_of_vehicle, max_speed, average_of_vehicle)\n",
    "        \n",
    "    def seating_capacity(self, capacity):\n",
    "        return f\"The {self.name_of_vehicle} has a seating capacity of {capacity}.\""
   ]
  },
  {
   "cell_type": "code",
   "execution_count": 24,
   "id": "4629011b-71e0-41ce-adcc-fe81f2c0fe53",
   "metadata": {},
   "outputs": [],
   "source": [
    "my_car = car(\"Sedan\", 120, 19)"
   ]
  },
  {
   "cell_type": "code",
   "execution_count": 25,
   "id": "ae1178fe-9b78-402e-808b-9ea8e9294f67",
   "metadata": {},
   "outputs": [
    {
     "data": {
      "text/plain": [
       "'The Sedan has a seating capacity of 5.'"
      ]
     },
     "execution_count": 25,
     "metadata": {},
     "output_type": "execute_result"
    }
   ],
   "source": [
    "my_car.seating_capacity(5)"
   ]
  },
  {
   "cell_type": "code",
   "execution_count": 26,
   "id": "38b1391a-83b2-427b-bf8d-9827d77ed3c4",
   "metadata": {},
   "outputs": [],
   "source": [
    "#Q3. What is multiple inheritance? Write a python code to demonstrate multiple inheritance.\n",
    "\n",
    "#Ans.: \n",
    "#Multiple Inheritance: When a class can be derived from more than one base class this type of inheritance is called Multiple Inhertiance.\n",
    "#In multiple inheritances, all the features of the base classes are inherited into the derived class.\n",
    "#Base Class1\n",
    "class Mother:\n",
    "    mothername = \"\"\n",
    "    \n",
    "    def mother(self):\n",
    "        print(self.mothername)\n",
    "        \n",
    "#Base Class2\n",
    "class Father:\n",
    "    fathername = \"\"\n",
    "    \n",
    "    def father(self):\n",
    "        print(self.fathername)\n",
    "        \n",
    "#Derived class\n",
    "class Son(Mother, Father):\n",
    "    def parent(self):\n",
    "        print(\"Father:\", self.fathername)\n",
    "        print(\"Mother:\", self.mothername)\n",
    "        \n",
    "#Driver's Code\n",
    "Relation = Son()\n",
    "Relation.fathername = \"RAM\"\n",
    "Relation.mothername = \"SITA\""
   ]
  },
  {
   "cell_type": "code",
   "execution_count": 33,
   "id": "122bb30d-2f8c-48ef-9840-25a81968f597",
   "metadata": {},
   "outputs": [],
   "source": [
    "#Q4. What are getter and setter in python? Create a class and create a getter and a setter method in this\n",
    "#class.\n",
    "\n",
    "#Ans.: \n",
    "#In Python, getters and setters are methods that control access to an object’s attributes. They are part of the concept of Encapsulation in Object-Oriented Programming (OOP).\n",
    "\n",
    "#Getter: A getter is a method that gets the value of a property. In Python, we use the @property decorator for getter methods.\n",
    "#Setter: A setter is a method that sets the value of a property. In Python, we use the @<property_name>.setter decorator for setter methods.\n",
    "\n",
    "class Person:\n",
    "    def __init__(self, name):\n",
    "        self._name = name  # _name is a private attribute\n",
    "\n",
    "    @property\n",
    "    def name(self):  # getter method\n",
    "        return self._name\n",
    "\n",
    "    @name.setter\n",
    "    def name(self, value):  # setter method\n",
    "        if not isinstance(value, str):\n",
    "            raise ValueError(\"Name must be a string.\")\n",
    "        self._name = value"
   ]
  },
  {
   "cell_type": "code",
   "execution_count": 34,
   "id": "2dcd4580-6980-45d2-bc5f-f84db44b77a2",
   "metadata": {},
   "outputs": [],
   "source": [
    "#Q5.What is method overriding in python? Write a python code to demonstrate method overriding.\n",
    "\n",
    "#Ans.:\n",
    "#Method overriding is a concept in object-oriented programming where a subclass provides a different implementation of a method that is already defined in its superclass.\n",
    "#It is used to change the behavior of methods that a subclass inherits from its superclass.\n",
    "class Animal:\n",
    "    def speak(self):\n",
    "        return \"This animal makes sound\""
   ]
  },
  {
   "cell_type": "code",
   "execution_count": 35,
   "id": "3c58898f-ceb6-4ca4-8047-ab93811c8fbe",
   "metadata": {},
   "outputs": [],
   "source": [
    "class Dog(Animal):\n",
    "    def speak(self):\n",
    "        return \"Dog barks\""
   ]
  },
  {
   "cell_type": "code",
   "execution_count": 36,
   "id": "82fa43c3-06ff-46c7-9cb0-6d7b492fd38f",
   "metadata": {},
   "outputs": [],
   "source": [
    "dog = Dog()\n",
    "animal = Animal()"
   ]
  },
  {
   "cell_type": "code",
   "execution_count": 37,
   "id": "a5ba0d3b-11d5-4b42-8255-82111eef9a46",
   "metadata": {},
   "outputs": [
    {
     "name": "stdout",
     "output_type": "stream",
     "text": [
      "Dog barks\n",
      "This animal makes sound\n"
     ]
    }
   ],
   "source": [
    "print(dog.speak())\n",
    "print(animal.speak())"
   ]
  },
  {
   "cell_type": "code",
   "execution_count": null,
   "id": "c2ae1f96-d150-414f-aab0-8a4ad85f7d76",
   "metadata": {},
   "outputs": [],
   "source": []
  }
 ],
 "metadata": {
  "kernelspec": {
   "display_name": "Python 3 (ipykernel)",
   "language": "python",
   "name": "python3"
  },
  "language_info": {
   "codemirror_mode": {
    "name": "ipython",
    "version": 3
   },
   "file_extension": ".py",
   "mimetype": "text/x-python",
   "name": "python",
   "nbconvert_exporter": "python",
   "pygments_lexer": "ipython3",
   "version": "3.10.8"
  }
 },
 "nbformat": 4,
 "nbformat_minor": 5
}
